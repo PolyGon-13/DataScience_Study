{
  "nbformat": 4,
  "nbformat_minor": 0,
  "metadata": {
    "colab": {
      "provenance": [],
      "authorship_tag": "ABX9TyO08X2ov+Ej3ZmlbMk/UqEg",
      "include_colab_link": true
    },
    "kernelspec": {
      "name": "python3",
      "display_name": "Python 3"
    },
    "language_info": {
      "name": "python"
    }
  },
  "cells": [
    {
      "cell_type": "markdown",
      "metadata": {
        "id": "view-in-github",
        "colab_type": "text"
      },
      "source": [
        "<a href=\"https://colab.research.google.com/github/PolyGon-13/DataScience_Study/blob/main/pandas/09_string.ipynb\" target=\"_parent\"><img src=\"https://colab.research.google.com/assets/colab-badge.svg\" alt=\"Open In Colab\"/></a>"
      ]
    },
    {
      "cell_type": "code",
      "execution_count": 1,
      "metadata": {
        "id": "I462jf0z2V6Y"
      },
      "outputs": [],
      "source": [
        "import pandas as pd\n",
        "import numpy as np"
      ]
    },
    {
      "cell_type": "code",
      "source": [
        "fruit_names=pd.Series([\"Apple\",\"Banana\",\"Cherry\"])\n",
        "fruit_names"
      ],
      "metadata": {
        "colab": {
          "base_uri": "https://localhost:8080/",
          "height": 178
        },
        "id": "0o-XmOJ327qA",
        "outputId": "93735c70-f138-457b-f89f-810e8bd60eac"
      },
      "execution_count": 2,
      "outputs": [
        {
          "output_type": "execute_result",
          "data": {
            "text/plain": [
              "0     Apple\n",
              "1    Banana\n",
              "2    Cherry\n",
              "dtype: object"
            ],
            "text/html": [
              "<div>\n",
              "<style scoped>\n",
              "    .dataframe tbody tr th:only-of-type {\n",
              "        vertical-align: middle;\n",
              "    }\n",
              "\n",
              "    .dataframe tbody tr th {\n",
              "        vertical-align: top;\n",
              "    }\n",
              "\n",
              "    .dataframe thead th {\n",
              "        text-align: right;\n",
              "    }\n",
              "</style>\n",
              "<table border=\"1\" class=\"dataframe\">\n",
              "  <thead>\n",
              "    <tr style=\"text-align: right;\">\n",
              "      <th></th>\n",
              "      <th>0</th>\n",
              "    </tr>\n",
              "  </thead>\n",
              "  <tbody>\n",
              "    <tr>\n",
              "      <th>0</th>\n",
              "      <td>Apple</td>\n",
              "    </tr>\n",
              "    <tr>\n",
              "      <th>1</th>\n",
              "      <td>Banana</td>\n",
              "    </tr>\n",
              "    <tr>\n",
              "      <th>2</th>\n",
              "      <td>Cherry</td>\n",
              "    </tr>\n",
              "  </tbody>\n",
              "</table>\n",
              "</div><br><label><b>dtype:</b> object</label>"
            ]
          },
          "metadata": {},
          "execution_count": 2
        }
      ]
    },
    {
      "cell_type": "code",
      "source": [
        "pd.Series([\"Apple\",\"Banana\",\"Cherry\"],dtype=\"string\")"
      ],
      "metadata": {
        "colab": {
          "base_uri": "https://localhost:8080/",
          "height": 178
        },
        "id": "EsP6Y08n3CQ9",
        "outputId": "abca8a03-65c7-40a8-dc44-be4063ddef4d"
      },
      "execution_count": 3,
      "outputs": [
        {
          "output_type": "execute_result",
          "data": {
            "text/plain": [
              "0     Apple\n",
              "1    Banana\n",
              "2    Cherry\n",
              "dtype: string"
            ],
            "text/html": [
              "<div>\n",
              "<style scoped>\n",
              "    .dataframe tbody tr th:only-of-type {\n",
              "        vertical-align: middle;\n",
              "    }\n",
              "\n",
              "    .dataframe tbody tr th {\n",
              "        vertical-align: top;\n",
              "    }\n",
              "\n",
              "    .dataframe thead th {\n",
              "        text-align: right;\n",
              "    }\n",
              "</style>\n",
              "<table border=\"1\" class=\"dataframe\">\n",
              "  <thead>\n",
              "    <tr style=\"text-align: right;\">\n",
              "      <th></th>\n",
              "      <th>0</th>\n",
              "    </tr>\n",
              "  </thead>\n",
              "  <tbody>\n",
              "    <tr>\n",
              "      <th>0</th>\n",
              "      <td>Apple</td>\n",
              "    </tr>\n",
              "    <tr>\n",
              "      <th>1</th>\n",
              "      <td>Banana</td>\n",
              "    </tr>\n",
              "    <tr>\n",
              "      <th>2</th>\n",
              "      <td>Cherry</td>\n",
              "    </tr>\n",
              "  </tbody>\n",
              "</table>\n",
              "</div><br><label><b>dtype:</b> string</label>"
            ]
          },
          "metadata": {},
          "execution_count": 3
        }
      ]
    },
    {
      "cell_type": "code",
      "source": [
        "pd.Series([\"Apple\",\"Banana\",\"Cherry\"],dtype=pd.StringDtype())"
      ],
      "metadata": {
        "colab": {
          "base_uri": "https://localhost:8080/",
          "height": 178
        },
        "id": "KgDL6fY93Kfn",
        "outputId": "0aa1bd35-cbcd-4d79-b112-7940303a8061"
      },
      "execution_count": 4,
      "outputs": [
        {
          "output_type": "execute_result",
          "data": {
            "text/plain": [
              "0     Apple\n",
              "1    Banana\n",
              "2    Cherry\n",
              "dtype: string"
            ],
            "text/html": [
              "<div>\n",
              "<style scoped>\n",
              "    .dataframe tbody tr th:only-of-type {\n",
              "        vertical-align: middle;\n",
              "    }\n",
              "\n",
              "    .dataframe tbody tr th {\n",
              "        vertical-align: top;\n",
              "    }\n",
              "\n",
              "    .dataframe thead th {\n",
              "        text-align: right;\n",
              "    }\n",
              "</style>\n",
              "<table border=\"1\" class=\"dataframe\">\n",
              "  <thead>\n",
              "    <tr style=\"text-align: right;\">\n",
              "      <th></th>\n",
              "      <th>0</th>\n",
              "    </tr>\n",
              "  </thead>\n",
              "  <tbody>\n",
              "    <tr>\n",
              "      <th>0</th>\n",
              "      <td>Apple</td>\n",
              "    </tr>\n",
              "    <tr>\n",
              "      <th>1</th>\n",
              "      <td>Banana</td>\n",
              "    </tr>\n",
              "    <tr>\n",
              "      <th>2</th>\n",
              "      <td>Cherry</td>\n",
              "    </tr>\n",
              "  </tbody>\n",
              "</table>\n",
              "</div><br><label><b>dtype:</b> string</label>"
            ]
          },
          "metadata": {},
          "execution_count": 4
        }
      ]
    },
    {
      "cell_type": "code",
      "source": [
        "fruit_names.astype('string')"
      ],
      "metadata": {
        "colab": {
          "base_uri": "https://localhost:8080/",
          "height": 178
        },
        "id": "Z1NXMomu3X8y",
        "outputId": "26ed800f-9387-489b-a60b-0f862e40891a"
      },
      "execution_count": 5,
      "outputs": [
        {
          "output_type": "execute_result",
          "data": {
            "text/plain": [
              "0     Apple\n",
              "1    Banana\n",
              "2    Cherry\n",
              "dtype: string"
            ],
            "text/html": [
              "<div>\n",
              "<style scoped>\n",
              "    .dataframe tbody tr th:only-of-type {\n",
              "        vertical-align: middle;\n",
              "    }\n",
              "\n",
              "    .dataframe tbody tr th {\n",
              "        vertical-align: top;\n",
              "    }\n",
              "\n",
              "    .dataframe thead th {\n",
              "        text-align: right;\n",
              "    }\n",
              "</style>\n",
              "<table border=\"1\" class=\"dataframe\">\n",
              "  <thead>\n",
              "    <tr style=\"text-align: right;\">\n",
              "      <th></th>\n",
              "      <th>0</th>\n",
              "    </tr>\n",
              "  </thead>\n",
              "  <tbody>\n",
              "    <tr>\n",
              "      <th>0</th>\n",
              "      <td>Apple</td>\n",
              "    </tr>\n",
              "    <tr>\n",
              "      <th>1</th>\n",
              "      <td>Banana</td>\n",
              "    </tr>\n",
              "    <tr>\n",
              "      <th>2</th>\n",
              "      <td>Cherry</td>\n",
              "    </tr>\n",
              "  </tbody>\n",
              "</table>\n",
              "</div><br><label><b>dtype:</b> string</label>"
            ]
          },
          "metadata": {},
          "execution_count": 5
        }
      ]
    },
    {
      "cell_type": "code",
      "source": [
        "ser=pd.Series([\"Apple_사과\",\"Banana_바나나\",\"Cherry_체리\",np.nan],\n",
        "              index=[\"First \",\" Second\",\"Third\",\" Fourth\"])\n",
        "print(ser)\n",
        "print('\\n')\n",
        "\n",
        "ser2=pd.Series([\"Apple_사과\",\"Banana_바나나\",\"Cherry_체리\",np.nan],\n",
        "              index=[\"First \",\" Second\",\" Third\",\"Fourth\"],dtype=\"string\")\n",
        "print(ser2)"
      ],
      "metadata": {
        "colab": {
          "base_uri": "https://localhost:8080/"
        },
        "id": "aValqK7q3fYd",
        "outputId": "58bdcf1b-4575-493b-ba1a-3a577dbacdb9"
      },
      "execution_count": 17,
      "outputs": [
        {
          "output_type": "stream",
          "name": "stdout",
          "text": [
            "First        Apple_사과\n",
            " Second    Banana_바나나\n",
            "Third       Cherry_체리\n",
            " Fourth           NaN\n",
            "dtype: object\n",
            "\n",
            "\n",
            "First        Apple_사과\n",
            " Second    Banana_바나나\n",
            " Third      Cherry_체리\n",
            "Fourth           <NA>\n",
            "dtype: string\n"
          ]
        }
      ]
    },
    {
      "cell_type": "code",
      "source": [
        "print(ser.str.lower())\n",
        "print('\\n')\n",
        "\n",
        "print(ser.str.upper())\n",
        "print('\\n')\n",
        "\n",
        "print(ser.str.len())"
      ],
      "metadata": {
        "colab": {
          "base_uri": "https://localhost:8080/"
        },
        "id": "deJr3Zvf4aEj",
        "outputId": "2cf8bb1e-2eaf-4a0c-ab29-8a28fca28af2"
      },
      "execution_count": 18,
      "outputs": [
        {
          "output_type": "stream",
          "name": "stdout",
          "text": [
            "First        apple_사과\n",
            " Second    banana_바나나\n",
            "Third       cherry_체리\n",
            " Fourth           NaN\n",
            "dtype: object\n",
            "\n",
            "\n",
            "First        APPLE_사과\n",
            " Second    BANANA_바나나\n",
            "Third       CHERRY_체리\n",
            " Fourth           NaN\n",
            "dtype: object\n",
            "\n",
            "\n",
            "First       8.0\n",
            " Second    10.0\n",
            "Third       9.0\n",
            " Fourth     NaN\n",
            "dtype: float64\n"
          ]
        }
      ]
    },
    {
      "cell_type": "code",
      "source": [
        "print(ser.str.split(\"_\")) # _를 기준으로 문자열을 분할하여 리스트로 반환\n",
        "print('\\n')\n",
        "\n",
        "print(ser.str.split(\"_\",expand=True)) # expand=True는 문자열을 분할하고 각 부분을 데이터프레임의 별도 열로 표시\n",
        "print('\\n')\n",
        "\n",
        "print(ser.str.split(\"_\").str.get(1)) # 문자열을 분할하고 리스트의 2번째(인덱스 1) 요소를 선택"
      ],
      "metadata": {
        "colab": {
          "base_uri": "https://localhost:8080/"
        },
        "id": "QOt5AD5V4nfu",
        "outputId": "cfe765f1-6608-4848-e755-90a780943527"
      },
      "execution_count": 19,
      "outputs": [
        {
          "output_type": "stream",
          "name": "stdout",
          "text": [
            "First        [Apple, 사과]\n",
            " Second    [Banana, 바나나]\n",
            "Third       [Cherry, 체리]\n",
            " Fourth              NaN\n",
            "dtype: object\n",
            "\n",
            "\n",
            "              0    1\n",
            "First     Apple   사과\n",
            " Second  Banana  바나나\n",
            "Third    Cherry   체리\n",
            " Fourth     NaN  NaN\n",
            "\n",
            "\n",
            "First       사과\n",
            " Second    바나나\n",
            "Third       체리\n",
            " Fourth    NaN\n",
            "dtype: object\n"
          ]
        }
      ]
    },
    {
      "cell_type": "code",
      "source": [
        "idx=ser.index\n",
        "print(idx)\n",
        "\n",
        "print(idx.str.strip())\n",
        "print(idx.str.lstrip())\n",
        "print(idx.str.rstrip())"
      ],
      "metadata": {
        "colab": {
          "base_uri": "https://localhost:8080/"
        },
        "id": "rwx63cWN47Ov",
        "outputId": "8189b03f-a8b0-4e6c-f8ee-4bd876768296"
      },
      "execution_count": 22,
      "outputs": [
        {
          "output_type": "stream",
          "name": "stdout",
          "text": [
            "Index(['First ', ' Second', 'Third', ' Fourth'], dtype='object')\n",
            "Index(['First', 'Second', 'Third', 'Fourth'], dtype='object')\n",
            "Index(['First ', 'Second', 'Third', 'Fourth'], dtype='object')\n",
            "Index(['First', ' Second', 'Third', ' Fourth'], dtype='object')\n"
          ]
        }
      ]
    },
    {
      "cell_type": "code",
      "source": [
        "print(ser.str.replace(\"_\",\":\",regex=False))\n",
        "print('\\n')\n",
        "\n",
        "print(ser.str.replace(\"[^a-zA-Z\\s]\",\"\",regex=True))"
      ],
      "metadata": {
        "colab": {
          "base_uri": "https://localhost:8080/"
        },
        "id": "jobMRxb253vW",
        "outputId": "62088174-0982-4536-8127-a6c2b06d98ae"
      },
      "execution_count": 23,
      "outputs": [
        {
          "output_type": "stream",
          "name": "stdout",
          "text": [
            "First        Apple:사과\n",
            " Second    Banana:바나나\n",
            "Third       Cherry:체리\n",
            " Fourth           NaN\n",
            "dtype: object\n",
            "\n",
            "\n",
            "First       Apple\n",
            " Second    Banana\n",
            "Third      Cherry\n",
            " Fourth       NaN\n",
            "dtype: object\n"
          ]
        }
      ]
    },
    {
      "cell_type": "code",
      "source": [
        "print(ser.str[0])\n",
        "print('\\n')\n",
        "\n",
        "print(ser.str[0:4])"
      ],
      "metadata": {
        "colab": {
          "base_uri": "https://localhost:8080/"
        },
        "id": "gyhN9tqF6hF2",
        "outputId": "5ab9cd75-233f-42b2-ea07-1f94950f83b6"
      },
      "execution_count": 24,
      "outputs": [
        {
          "output_type": "stream",
          "name": "stdout",
          "text": [
            "First        A\n",
            " Second      B\n",
            "Third        C\n",
            " Fourth    NaN\n",
            "dtype: object\n",
            "\n",
            "\n",
            "First      Appl\n",
            " Second    Bana\n",
            "Third      Cher\n",
            " Fourth     NaN\n",
            "dtype: object\n"
          ]
        }
      ]
    },
    {
      "cell_type": "code",
      "source": [
        "contains_A=ser.str.contains(\"A\",na=False)\n",
        "print(contains_A)\n",
        "print('\\n')\n",
        "\n",
        "contains_pattern=ser.str.contains(r\"[A|B][a-z]+\")\n",
        "print(contains_pattern)\n",
        "print('\\n')\n",
        "\n",
        "fullmatch_pattern=ser.str.fullmatch(r\"[A|B][a-z]+\")\n",
        "print(fullmatch_pattern)"
      ],
      "metadata": {
        "colab": {
          "base_uri": "https://localhost:8080/"
        },
        "id": "ddX0E3aN6u6G",
        "outputId": "7e243652-604b-4352-e9ad-1b46d92cc4b6"
      },
      "execution_count": 28,
      "outputs": [
        {
          "output_type": "stream",
          "name": "stdout",
          "text": [
            "First       True\n",
            " Second    False\n",
            "Third      False\n",
            " Fourth    False\n",
            "dtype: bool\n",
            "\n",
            "\n",
            "First       True\n",
            " Second     True\n",
            "Third      False\n",
            " Fourth      NaN\n",
            "dtype: object\n",
            "\n",
            "\n",
            "First      False\n",
            " Second    False\n",
            "Third      False\n",
            " Fourth      NaN\n",
            "dtype: object\n"
          ]
        }
      ]
    },
    {
      "cell_type": "code",
      "source": [
        "ser3=pd.Series([\"a1\",\"b2\",\"c3\",\"d4a5\",\"e6e7\",\"f8\"],dtype=\"string\")\n",
        "\n",
        "digits=ser3.str.extractall(r\"(\\d)\").groupby(level=0).agg(''.join)\n",
        "print(digits)\n",
        "print('\\n')\n",
        "\n",
        "letters=ser3.str.extractall(r\"([a-z])\").groupby(level=0).agg(''.join)\n",
        "print(letters)\n",
        "print('\\n')\n",
        "\n",
        "split_columns=ser3.str.extract(r\"(?P<Letter>[a-z]+)(?P<Digit>\\d+)\")\n",
        "print(split_columns)"
      ],
      "metadata": {
        "colab": {
          "base_uri": "https://localhost:8080/"
        },
        "id": "Jypa-Y1n7iIH",
        "outputId": "f9a2171e-204c-4062-9be2-4061c740e150"
      },
      "execution_count": 30,
      "outputs": [
        {
          "output_type": "stream",
          "name": "stdout",
          "text": [
            "    0\n",
            "0   1\n",
            "1   2\n",
            "2   3\n",
            "3  45\n",
            "4  67\n",
            "5   8\n",
            "\n",
            "\n",
            "    0\n",
            "0   a\n",
            "1   b\n",
            "2   c\n",
            "3  da\n",
            "4  ee\n",
            "5   f\n",
            "\n",
            "\n",
            "  Letter Digit\n",
            "0      a     1\n",
            "1      b     2\n",
            "2      c     3\n",
            "3      d     4\n",
            "4      e     6\n",
            "5      f     8\n"
          ]
        }
      ]
    }
  ]
}