{
  "nbformat": 4,
  "nbformat_minor": 0,
  "metadata": {
    "colab": {
      "provenance": [],
      "gpuType": "T4",
      "authorship_tag": "ABX9TyMdvrJOa4VRjSxNpzh+jGxo",
      "include_colab_link": true
    },
    "kernelspec": {
      "name": "python3",
      "display_name": "Python 3"
    },
    "language_info": {
      "name": "python"
    },
    "accelerator": "GPU"
  },
  "cells": [
    {
      "cell_type": "markdown",
      "metadata": {
        "id": "view-in-github",
        "colab_type": "text"
      },
      "source": [
        "<a href=\"https://colab.research.google.com/github/PolyGon-13/DataScience_Study/blob/main/pandas/Series_Calculation.ipynb\" target=\"_parent\"><img src=\"https://colab.research.google.com/assets/colab-badge.svg\" alt=\"Open In Colab\"/></a>"
      ]
    },
    {
      "cell_type": "code",
      "execution_count": 1,
      "metadata": {
        "id": "Iq3uKWCL8YS-"
      },
      "outputs": [],
      "source": [
        "import pandas as pd\n",
        "import numpy as np"
      ]
    },
    {
      "cell_type": "code",
      "source": [
        "student1=pd.Series({'국어':100,'영어':80,'수학':90})\n",
        "print(student1)\n",
        "\n",
        "percentage=student1/200\n",
        "\n",
        "print(percentage)\n",
        "print(type(percentage))"
      ],
      "metadata": {
        "colab": {
          "base_uri": "https://localhost:8080/"
        },
        "id": "WT6nh1na8v6m",
        "outputId": "bb036310-8d3c-4bef-902e-2164d81fcf1e"
      },
      "execution_count": null,
      "outputs": [
        {
          "output_type": "stream",
          "name": "stdout",
          "text": [
            "국어    100\n",
            "영어     80\n",
            "수학     90\n",
            "dtype: int64\n",
            "국어    0.50\n",
            "영어    0.40\n",
            "수학    0.45\n",
            "dtype: float64\n",
            "<class 'pandas.core.series.Series'>\n"
          ]
        }
      ]
    },
    {
      "cell_type": "code",
      "source": [
        "student1=pd.Series({'국어':100,'영어':80,'수학':90})\n",
        "student2=pd.Series({'수학':80,'국어':90,'영어':80})\n",
        "\n",
        "print(student1)\n",
        "print('\\n')\n",
        "print(student2)\n",
        "print('\\n')\n",
        "\n",
        "addition=student1+student2\n",
        "print(type(addition))\n",
        "print(addition)"
      ],
      "metadata": {
        "colab": {
          "base_uri": "https://localhost:8080/"
        },
        "id": "Y_Hs5lZy9A11",
        "outputId": "ac13fd91-9f16-41c7-f48e-b71b11454818"
      },
      "execution_count": null,
      "outputs": [
        {
          "output_type": "stream",
          "name": "stdout",
          "text": [
            "국어    100\n",
            "영어     80\n",
            "수학     90\n",
            "dtype: int64\n",
            "\n",
            "\n",
            "수학    80\n",
            "국어    90\n",
            "영어    80\n",
            "dtype: int64\n",
            "\n",
            "\n",
            "<class 'pandas.core.series.Series'>\n",
            "국어    190\n",
            "수학    170\n",
            "영어    160\n",
            "dtype: int64\n"
          ]
        }
      ]
    },
    {
      "cell_type": "code",
      "source": [
        "subtraction=student1-student2\n",
        "print(type(subtraction))\n",
        "print(subtraction)"
      ],
      "metadata": {
        "colab": {
          "base_uri": "https://localhost:8080/"
        },
        "id": "6HR5M88S9bNB",
        "outputId": "726ad8b6-31ae-4545-80fd-bc2da332f327"
      },
      "execution_count": null,
      "outputs": [
        {
          "output_type": "stream",
          "name": "stdout",
          "text": [
            "<class 'pandas.core.series.Series'>\n",
            "국어    10\n",
            "수학    10\n",
            "영어     0\n",
            "dtype: int64\n"
          ]
        }
      ]
    },
    {
      "cell_type": "code",
      "source": [
        "multiplication=student1*student2\n",
        "print(type(multiplication))\n",
        "print(multiplication)"
      ],
      "metadata": {
        "colab": {
          "base_uri": "https://localhost:8080/"
        },
        "id": "gizZhqP-9ozY",
        "outputId": "4ea3d94e-276d-4eef-9f1e-585e8ab1f3e4"
      },
      "execution_count": null,
      "outputs": [
        {
          "output_type": "stream",
          "name": "stdout",
          "text": [
            "<class 'pandas.core.series.Series'>\n",
            "국어    9000\n",
            "수학    7200\n",
            "영어    6400\n",
            "dtype: int64\n"
          ]
        }
      ]
    },
    {
      "cell_type": "code",
      "source": [
        "division=student1/student2\n",
        "print(type(division))\n",
        "print(division)"
      ],
      "metadata": {
        "colab": {
          "base_uri": "https://localhost:8080/"
        },
        "id": "BB9AjZoV98lt",
        "outputId": "2effc0cb-b2df-444f-8699-7073d05e071d"
      },
      "execution_count": null,
      "outputs": [
        {
          "output_type": "stream",
          "name": "stdout",
          "text": [
            "<class 'pandas.core.series.Series'>\n",
            "국어    1.111111\n",
            "수학    1.125000\n",
            "영어    1.000000\n",
            "dtype: float64\n"
          ]
        }
      ]
    },
    {
      "cell_type": "code",
      "source": [
        "result=pd.DataFrame([addition,subtraction,multiplication,division],index=['덧셈','뺄셈','곱셈','나눗셈'])\n",
        "print(result)"
      ],
      "metadata": {
        "colab": {
          "base_uri": "https://localhost:8080/"
        },
        "id": "Wou-U2ib-CgL",
        "outputId": "e5bdaccb-facc-4e34-c702-cb052fc0a2b3"
      },
      "execution_count": null,
      "outputs": [
        {
          "output_type": "stream",
          "name": "stdout",
          "text": [
            "              국어        수학      영어\n",
            "덧셈    190.000000   170.000   160.0\n",
            "뺄셈     10.000000    10.000     0.0\n",
            "곱셈   9000.000000  7200.000  6400.0\n",
            "나눗셈     1.111111     1.125     1.0\n"
          ]
        }
      ]
    },
    {
      "cell_type": "code",
      "source": [
        "student1=pd.Series({'국어':np.nan,'영어':80,'수학':90})\n",
        "student2=pd.Series({'수학':80,'국어':90})\n",
        "\n",
        "print(student1)\n",
        "print(student2)\n",
        "\n",
        "addition=student1+student2\n",
        "subtraction=student1-student2\n",
        "multiplication=student1*student2\n",
        "division=student1/student2\n",
        "print(type(division))\n",
        "print('\\n')\n",
        "\n",
        "result=pd.DataFrame([addition,subtraction,multiplication,division],index=['덧셈','뺄셈','곱셈','나눗셈'])\n",
        "print(result)"
      ],
      "metadata": {
        "colab": {
          "base_uri": "https://localhost:8080/"
        },
        "id": "qsLkv8cB-VVs",
        "outputId": "13376393-bc8d-4ce9-e58f-72430bc82b8b"
      },
      "execution_count": null,
      "outputs": [
        {
          "output_type": "stream",
          "name": "stdout",
          "text": [
            "국어     NaN\n",
            "영어    80.0\n",
            "수학    90.0\n",
            "dtype: float64\n",
            "수학    80\n",
            "국어    90\n",
            "dtype: int64\n",
            "<class 'pandas.core.series.Series'>\n",
            "\n",
            "\n",
            "     국어        수학  영어\n",
            "덧셈  NaN   170.000 NaN\n",
            "뺄셈  NaN    10.000 NaN\n",
            "곱셈  NaN  7200.000 NaN\n",
            "나눗셈 NaN     1.125 NaN\n"
          ]
        }
      ]
    },
    {
      "cell_type": "code",
      "source": [
        "student1=pd.Series({'국어':np.nan,'영어':80,'수학':90})\n",
        "student2=pd.Series({'수학':80,'국어':90})\n",
        "\n",
        "print(student1)\n",
        "print(student2)\n",
        "print('\\n')\n",
        "\n",
        "sr_add=student1.add(student2,fill_value=0)\n",
        "sr_sub=student1.sub(student2,fill_value=0)\n",
        "sr_mul=student1.mul(student2,fill_value=0)\n",
        "sr_div=student1.div(student2,fill_value=0)\n",
        "\n",
        "result=pd.DataFrame([sr_add,sr_sub,sr_mul,sr_div],index=['덧셈','뺄셈','곱셈','나눗셈'])\n",
        "\n",
        "print(result)"
      ],
      "metadata": {
        "id": "CCHv1yIu_jkD",
        "colab": {
          "base_uri": "https://localhost:8080/"
        },
        "outputId": "d0b79dfb-3132-4cde-d8ac-335a265f8537"
      },
      "execution_count": 3,
      "outputs": [
        {
          "output_type": "stream",
          "name": "stdout",
          "text": [
            "국어     NaN\n",
            "영어    80.0\n",
            "수학    90.0\n",
            "dtype: float64\n",
            "수학    80\n",
            "국어    90\n",
            "dtype: int64\n",
            "\n",
            "\n",
            "       국어        수학    영어\n",
            "덧셈   90.0   170.000  80.0\n",
            "뺄셈  -90.0    10.000  80.0\n",
            "곱셈    0.0  7200.000   0.0\n",
            "나눗셈   0.0     1.125   inf\n"
          ]
        }
      ]
    }
  ]
}
