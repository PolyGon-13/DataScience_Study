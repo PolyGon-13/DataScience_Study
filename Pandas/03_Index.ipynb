{
  "nbformat": 4,
  "nbformat_minor": 0,
  "metadata": {
    "colab": {
      "provenance": [],
      "gpuType": "T4",
      "authorship_tag": "ABX9TyMh9TGZ260i+gmOE/iC1HIV",
      "include_colab_link": true
    },
    "kernelspec": {
      "name": "python3",
      "display_name": "Python 3"
    },
    "language_info": {
      "name": "python"
    },
    "accelerator": "GPU"
  },
  "cells": [
    {
      "cell_type": "markdown",
      "metadata": {
        "id": "view-in-github",
        "colab_type": "text"
      },
      "source": [
        "<a href=\"https://colab.research.google.com/github/PolyGon-13/DataScience_Study/blob/main/pandas/Index.ipynb\" target=\"_parent\"><img src=\"https://colab.research.google.com/assets/colab-badge.svg\" alt=\"Open In Colab\"/></a>"
      ]
    },
    {
      "cell_type": "code",
      "execution_count": 1,
      "metadata": {
        "id": "HKZVXNoSQXiv"
      },
      "outputs": [],
      "source": [
        "import pandas as pd"
      ]
    },
    {
      "cell_type": "code",
      "source": [
        "exam_data={'이름':['서준','우현','인아'],\n",
        "           '수학':[90,80,70],\n",
        "           '영어':[98,89,95],\n",
        "           '음악':[85,95,100],\n",
        "           '체육':[100,90,90]}\n",
        "\n",
        "df=pd.DataFrame(exam_data)\n",
        "print(df)\n",
        "print('\\n')\n",
        "\n",
        "ndf=df.set_index('이름')\n",
        "print(ndf)\n",
        "print('\\n')\n",
        "\n",
        "ndf2=ndf.set_index('음악')\n",
        "print(ndf2)\n",
        "print('\\n')\n",
        "\n",
        "ndf3=ndf.set_index(['수학','음악'])\n",
        "print(ndf3)"
      ],
      "metadata": {
        "id": "3nDyKywUQcLY",
        "colab": {
          "base_uri": "https://localhost:8080/"
        },
        "outputId": "c4ea3d92-cd6c-41a8-976b-3a37b55150d7"
      },
      "execution_count": 3,
      "outputs": [
        {
          "output_type": "stream",
          "name": "stdout",
          "text": [
            "   이름  수학  영어   음악   체육\n",
            "0  서준  90  98   85  100\n",
            "1  우현  80  89   95   90\n",
            "2  인아  70  95  100   90\n",
            "\n",
            "\n",
            "    수학  영어   음악   체육\n",
            "이름                  \n",
            "서준  90  98   85  100\n",
            "우현  80  89   95   90\n",
            "인아  70  95  100   90\n",
            "\n",
            "\n",
            "     수학  영어   체육\n",
            "음악              \n",
            "85   90  98  100\n",
            "95   80  89   90\n",
            "100  70  95   90\n",
            "\n",
            "\n",
            "        영어   체육\n",
            "수학 음악          \n",
            "90 85   98  100\n",
            "80 95   89   90\n",
            "70 100  95   90\n"
          ]
        }
      ]
    },
    {
      "cell_type": "code",
      "source": [
        "dict_data={'c0':[1,2,3],'c1':[4,5,6],'c2':[7,8,9],'c3':[10,11,12],'c4':[13,14,15]}\n",
        "\n",
        "df=pd.DataFrame(dict_data,index=['r0','r1','r2'])\n",
        "print(df)\n",
        "\n",
        "new_index=['r0','r1','r2','r3','r4']\n",
        "ndf=df.reindex(new_index)\n",
        "print(ndf)\n",
        "\n",
        "new_index=['r0','r1','r2','r3','r4']\n",
        "ndf2=df.reindex(new_index,fill_value=0)\n",
        "print(ndf2)"
      ],
      "metadata": {
        "colab": {
          "base_uri": "https://localhost:8080/"
        },
        "id": "8PVGy4841yR4",
        "outputId": "c103b37a-b796-4922-8f56-d9dc8cf0f119"
      },
      "execution_count": 5,
      "outputs": [
        {
          "output_type": "stream",
          "name": "stdout",
          "text": [
            "    c0  c1  c2  c3  c4\n",
            "r0   1   4   7  10  13\n",
            "r1   2   5   8  11  14\n",
            "r2   3   6   9  12  15\n",
            "     c0   c1   c2    c3    c4\n",
            "r0  1.0  4.0  7.0  10.0  13.0\n",
            "r1  2.0  5.0  8.0  11.0  14.0\n",
            "r2  3.0  6.0  9.0  12.0  15.0\n",
            "r3  NaN  NaN  NaN   NaN   NaN\n",
            "r4  NaN  NaN  NaN   NaN   NaN\n",
            "    c0  c1  c2  c3  c4\n",
            "r0   1   4   7  10  13\n",
            "r1   2   5   8  11  14\n",
            "r2   3   6   9  12  15\n",
            "r3   0   0   0   0   0\n",
            "r4   0   0   0   0   0\n"
          ]
        }
      ]
    },
    {
      "cell_type": "code",
      "source": [
        "dict_data={'c0':[1,2,3],'c1':[4,5,6],'c2':[7,8,9],'c3':[10,11,12],'c4':[13,14,15]}\n",
        "\n",
        "df=pd.DataFrame(dict_data,index=['r0','r1','r2'])\n",
        "print(df)\n",
        "\n",
        "ndf=df.reset_index()\n",
        "print(ndf)"
      ],
      "metadata": {
        "colab": {
          "base_uri": "https://localhost:8080/"
        },
        "id": "CQkN7g7l5QXu",
        "outputId": "afd43b4e-7fc4-43b9-92b2-a1e2c01e6915"
      },
      "execution_count": 6,
      "outputs": [
        {
          "output_type": "stream",
          "name": "stdout",
          "text": [
            "    c0  c1  c2  c3  c4\n",
            "r0   1   4   7  10  13\n",
            "r1   2   5   8  11  14\n",
            "r2   3   6   9  12  15\n",
            "  index  c0  c1  c2  c3  c4\n",
            "0    r0   1   4   7  10  13\n",
            "1    r1   2   5   8  11  14\n",
            "2    r2   3   6   9  12  15\n"
          ]
        }
      ]
    },
    {
      "cell_type": "code",
      "source": [
        "ndf2=df.reset_index(names=['C00'])\n",
        "print(ndf2)"
      ],
      "metadata": {
        "colab": {
          "base_uri": "https://localhost:8080/"
        },
        "id": "1cIJW0nP5xKg",
        "outputId": "0767073c-3929-4842-db54-63da628c96f2"
      },
      "execution_count": 7,
      "outputs": [
        {
          "output_type": "stream",
          "name": "stdout",
          "text": [
            "  C00  c0  c1  c2  c3  c4\n",
            "0  r0   1   4   7  10  13\n",
            "1  r1   2   5   8  11  14\n",
            "2  r2   3   6   9  12  15\n"
          ]
        }
      ]
    },
    {
      "cell_type": "code",
      "source": [
        "ndf3=df.reset_index(drop=True)\n",
        "print(ndf3)"
      ],
      "metadata": {
        "colab": {
          "base_uri": "https://localhost:8080/"
        },
        "id": "vrd9MWLW6Hkj",
        "outputId": "4c1873f9-498b-444d-b651-dfb0f5d44ef1"
      },
      "execution_count": 8,
      "outputs": [
        {
          "output_type": "stream",
          "name": "stdout",
          "text": [
            "   c0  c1  c2  c3  c4\n",
            "0   1   4   7  10  13\n",
            "1   2   5   8  11  14\n",
            "2   3   6   9  12  15\n"
          ]
        }
      ]
    },
    {
      "cell_type": "code",
      "source": [
        "dict_data={'c0':[1,2,3],'c1':[4,5,6],'c2':[7,8,9],'c3':[10,11,12],'c4':[13,14,15]}\n",
        "\n",
        "df=pd.DataFrame(dict_data,index=['r0','r2','r1'])\n",
        "print(df)\n",
        "\n",
        "ndf=df.sort_index(ascending=False) # 인덱스 내림차순 정렬\n",
        "print(ndf)"
      ],
      "metadata": {
        "colab": {
          "base_uri": "https://localhost:8080/"
        },
        "id": "45biR3IB6OH_",
        "outputId": "384c03ea-4d86-4ad5-c5af-af14db48f22c"
      },
      "execution_count": 9,
      "outputs": [
        {
          "output_type": "stream",
          "name": "stdout",
          "text": [
            "    c0  c1  c2  c3  c4\n",
            "r0   1   4   7  10  13\n",
            "r2   2   5   8  11  14\n",
            "r1   3   6   9  12  15\n",
            "    c0  c1  c2  c3  c4\n",
            "r2   2   5   8  11  14\n",
            "r1   3   6   9  12  15\n",
            "r0   1   4   7  10  13\n"
          ]
        }
      ]
    },
    {
      "cell_type": "code",
      "source": [
        "ndf2=df.sort_index(ascending=True)\n",
        "print(ndf2)"
      ],
      "metadata": {
        "colab": {
          "base_uri": "https://localhost:8080/"
        },
        "id": "Sja67CRs6ttN",
        "outputId": "87be23bc-351c-49cb-e44b-4ec230d01182"
      },
      "execution_count": 10,
      "outputs": [
        {
          "output_type": "stream",
          "name": "stdout",
          "text": [
            "    c0  c1  c2  c3  c4\n",
            "r0   1   4   7  10  13\n",
            "r1   3   6   9  12  15\n",
            "r2   2   5   8  11  14\n"
          ]
        }
      ]
    },
    {
      "cell_type": "code",
      "source": [
        "dict_data={'c0':[1,2,3],'c1':[4,5,6],'c2':[7,8,9],'c3':[10,10,11],'c4':[15,14,14]}\n",
        "\n",
        "df=pd.DataFrame(dict_data,index=['r0','r1','r2'])\n",
        "print(df)\n",
        "\n",
        "ndf=df.sort_values(by='c1',ascending=False) # 'c1'열을 기준으로 데이터프레임을 내림차순으로 정렬\n",
        "print(ndf)"
      ],
      "metadata": {
        "colab": {
          "base_uri": "https://localhost:8080/"
        },
        "id": "SgYoa-bu66Vb",
        "outputId": "ddab7895-37c2-4c64-80a7-1eb93b80d66b"
      },
      "execution_count": 11,
      "outputs": [
        {
          "output_type": "stream",
          "name": "stdout",
          "text": [
            "    c0  c1  c2  c3  c4\n",
            "r0   1   4   7  10  15\n",
            "r1   2   5   8  10  14\n",
            "r2   3   6   9  11  14\n",
            "    c0  c1  c2  c3  c4\n",
            "r2   3   6   9  11  14\n",
            "r1   2   5   8  10  14\n",
            "r0   1   4   7  10  15\n"
          ]
        }
      ]
    },
    {
      "cell_type": "code",
      "source": [
        "ndf2=df.sort_values(by='c2',ascending=True)\n",
        "print(ndf2)"
      ],
      "metadata": {
        "colab": {
          "base_uri": "https://localhost:8080/"
        },
        "id": "AcKorieM7Y47",
        "outputId": "69bc35d0-433c-44d4-854c-6f03b164c803"
      },
      "execution_count": 12,
      "outputs": [
        {
          "output_type": "stream",
          "name": "stdout",
          "text": [
            "    c0  c1  c2  c3  c4\n",
            "r0   1   4   7  10  15\n",
            "r1   2   5   8  10  14\n",
            "r2   3   6   9  11  14\n"
          ]
        }
      ]
    },
    {
      "cell_type": "code",
      "source": [
        "ndf3=df.sort_values(by=['c3','c4'],ascending=[False,True]) # 'c3'열을 기준으로 내림차순 정렬 후, 'c4'열을 기준으로 내림차순\n",
        "print(ndf3)"
      ],
      "metadata": {
        "colab": {
          "base_uri": "https://localhost:8080/"
        },
        "id": "N3E1bnfc7ptM",
        "outputId": "bb333479-020b-4215-f5a0-9b67f0f52583"
      },
      "execution_count": 14,
      "outputs": [
        {
          "output_type": "stream",
          "name": "stdout",
          "text": [
            "    c0  c1  c2  c3  c4\n",
            "r2   3   6   9  11  14\n",
            "r1   2   5   8  10  14\n",
            "r0   1   4   7  10  15\n"
          ]
        }
      ]
    }
  ]
}
