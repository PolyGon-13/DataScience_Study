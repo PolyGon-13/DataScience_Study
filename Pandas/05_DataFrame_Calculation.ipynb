{
  "nbformat": 4,
  "nbformat_minor": 0,
  "metadata": {
    "colab": {
      "provenance": [],
      "authorship_tag": "ABX9TyNBM5YUBlpbFnYjY0fFcue1",
      "include_colab_link": true
    },
    "kernelspec": {
      "name": "python3",
      "display_name": "Python 3"
    },
    "language_info": {
      "name": "python"
    }
  },
  "cells": [
    {
      "cell_type": "markdown",
      "metadata": {
        "id": "view-in-github",
        "colab_type": "text"
      },
      "source": [
        "<a href=\"https://colab.research.google.com/github/PolyGon-13/DataScience_Study/blob/main/pandas/05_DataFrame_Calculation.ipynb\" target=\"_parent\"><img src=\"https://colab.research.google.com/assets/colab-badge.svg\" alt=\"Open In Colab\"/></a>"
      ]
    },
    {
      "cell_type": "code",
      "execution_count": 1,
      "metadata": {
        "id": "6KKtNOU6m-3V"
      },
      "outputs": [],
      "source": [
        "import pandas as pd\n",
        "import seaborn as sns"
      ]
    },
    {
      "cell_type": "code",
      "source": [
        "titanic=sns.load_dataset('titanic')\n",
        "df=titanic.loc[:,['age','fare']]\n",
        "print(df.head()) # 처음 5줄의 데이터를 출력\n",
        "print('\\n')\n",
        "print(type(df))"
      ],
      "metadata": {
        "colab": {
          "base_uri": "https://localhost:8080/"
        },
        "id": "4RFcKoSOnLCg",
        "outputId": "12650026-ae39-421c-bf74-6c571c4e95a5"
      },
      "execution_count": 2,
      "outputs": [
        {
          "output_type": "stream",
          "name": "stdout",
          "text": [
            "    age     fare\n",
            "0  22.0   7.2500\n",
            "1  38.0  71.2833\n",
            "2  26.0   7.9250\n",
            "3  35.0  53.1000\n",
            "4  35.0   8.0500\n",
            "\n",
            "\n",
            "<class 'pandas.core.frame.DataFrame'>\n"
          ]
        }
      ]
    },
    {
      "cell_type": "code",
      "source": [
        "addition=df+10\n",
        "print(addition.head())\n",
        "print('\\n')\n",
        "print(type(addition))"
      ],
      "metadata": {
        "colab": {
          "base_uri": "https://localhost:8080/"
        },
        "id": "46lfqFcAoMlc",
        "outputId": "84461326-767b-4698-a611-59ad6a99e67b"
      },
      "execution_count": 3,
      "outputs": [
        {
          "output_type": "stream",
          "name": "stdout",
          "text": [
            "    age     fare\n",
            "0  32.0  17.2500\n",
            "1  48.0  81.2833\n",
            "2  36.0  17.9250\n",
            "3  45.0  63.1000\n",
            "4  45.0  18.0500\n",
            "\n",
            "\n",
            "<class 'pandas.core.frame.DataFrame'>\n"
          ]
        }
      ]
    },
    {
      "cell_type": "code",
      "source": [
        "titanic=sns.load_dataset('titanic')\n",
        "df=titanic.loc[:,['age','fare']]\n",
        "print(df.tail()) # 마지막 5줄의 데이터를 출력\n",
        "print('\\n')\n",
        "print(type(df))\n",
        "print('\\n')\n",
        "\n",
        "addition=df+10\n",
        "print(addition.tail())\n",
        "print('\\n')\n",
        "print(type(addition))\n",
        "print('\\n')\n",
        "\n",
        "subtraction=addition-df\n",
        "print(subtraction.tail())\n",
        "print('\\n')\n",
        "print(type(subtraction))"
      ],
      "metadata": {
        "colab": {
          "base_uri": "https://localhost:8080/"
        },
        "id": "2muM2b3YosSs",
        "outputId": "3c3b3426-7a0c-4cd0-faa9-b0d67aa3e64f"
      },
      "execution_count": 4,
      "outputs": [
        {
          "output_type": "stream",
          "name": "stdout",
          "text": [
            "      age   fare\n",
            "886  27.0  13.00\n",
            "887  19.0  30.00\n",
            "888   NaN  23.45\n",
            "889  26.0  30.00\n",
            "890  32.0   7.75\n",
            "\n",
            "\n",
            "<class 'pandas.core.frame.DataFrame'>\n",
            "\n",
            "\n",
            "      age   fare\n",
            "886  37.0  23.00\n",
            "887  29.0  40.00\n",
            "888   NaN  33.45\n",
            "889  36.0  40.00\n",
            "890  42.0  17.75\n",
            "\n",
            "\n",
            "<class 'pandas.core.frame.DataFrame'>\n",
            "\n",
            "\n",
            "      age  fare\n",
            "886  10.0  10.0\n",
            "887  10.0  10.0\n",
            "888   NaN  10.0\n",
            "889  10.0  10.0\n",
            "890  10.0  10.0\n",
            "\n",
            "\n",
            "<class 'pandas.core.frame.DataFrame'>\n"
          ]
        }
      ]
    },
    {
      "cell_type": "code",
      "source": [
        "sample1=addition.tail()\n",
        "sample2=subtraction.tail().fillna(0.0)\n",
        "\n",
        "print(sample1)\n",
        "print(sample2)"
      ],
      "metadata": {
        "colab": {
          "base_uri": "https://localhost:8080/"
        },
        "id": "N7YpMPXdpSAI",
        "outputId": "a9de6324-77d2-4163-f86f-09aff017ffc3"
      },
      "execution_count": 5,
      "outputs": [
        {
          "output_type": "stream",
          "name": "stdout",
          "text": [
            "      age   fare\n",
            "886  37.0  23.00\n",
            "887  29.0  40.00\n",
            "888   NaN  33.45\n",
            "889  36.0  40.00\n",
            "890  42.0  17.75\n",
            "      age  fare\n",
            "886  10.0  10.0\n",
            "887  10.0  10.0\n",
            "888   0.0  10.0\n",
            "889  10.0  10.0\n",
            "890  10.0  10.0\n"
          ]
        }
      ]
    },
    {
      "cell_type": "code",
      "source": [
        "df_add=sample1.add(sample2,fill_value=0)\n",
        "df_sub=sample1.sub(sample2,fill_value=0)\n",
        "df_mul=sample1.mul(sample2,fill_value=0)\n",
        "df_div=sample1.div(sample2,fill_value=0)\n",
        "\n",
        "print(df_add)\n",
        "print(df_sub)\n",
        "print(df_mul)\n",
        "print(df_div)"
      ],
      "metadata": {
        "colab": {
          "base_uri": "https://localhost:8080/"
        },
        "id": "xFK_yxfCpnge",
        "outputId": "4830b586-5395-4703-c1a5-5338247bd613"
      },
      "execution_count": 9,
      "outputs": [
        {
          "output_type": "stream",
          "name": "stdout",
          "text": [
            "      age   fare\n",
            "886  47.0  33.00\n",
            "887  39.0  50.00\n",
            "888   0.0  43.45\n",
            "889  46.0  50.00\n",
            "890  52.0  27.75\n",
            "      age   fare\n",
            "886  27.0  13.00\n",
            "887  19.0  30.00\n",
            "888   0.0  23.45\n",
            "889  26.0  30.00\n",
            "890  32.0   7.75\n",
            "       age   fare\n",
            "886  370.0  230.0\n",
            "887  290.0  400.0\n",
            "888    0.0  334.5\n",
            "889  360.0  400.0\n",
            "890  420.0  177.5\n",
            "     age   fare\n",
            "886  3.7  2.300\n",
            "887  2.9  4.000\n",
            "888  NaN  3.345\n",
            "889  3.6  4.000\n",
            "890  4.2  1.775\n"
          ]
        }
      ]
    }
  ]
}