{
  "nbformat": 4,
  "nbformat_minor": 0,
  "metadata": {
    "colab": {
      "provenance": [],
      "gpuType": "T4",
      "authorship_tag": "ABX9TyNLlkDa1TekG9jy+CRkqsw+",
      "include_colab_link": true
    },
    "kernelspec": {
      "name": "python3",
      "display_name": "Python 3"
    },
    "language_info": {
      "name": "python"
    },
    "accelerator": "GPU"
  },
  "cells": [
    {
      "cell_type": "markdown",
      "metadata": {
        "id": "view-in-github",
        "colab_type": "text"
      },
      "source": [
        "<a href=\"https://colab.research.google.com/github/PolyGon-13/DataScience_Study/blob/main/Data/02_statistics_func.ipynb\" target=\"_parent\"><img src=\"https://colab.research.google.com/assets/colab-badge.svg\" alt=\"Open In Colab\"/></a>"
      ]
    },
    {
      "cell_type": "code",
      "execution_count": 2,
      "metadata": {
        "id": "KmWzEgSRy8TE"
      },
      "outputs": [],
      "source": [
        "import pandas as pd"
      ]
    },
    {
      "cell_type": "code",
      "source": [
        "df=pd.read_csv('./data/auto-mpg.csv',header=None)\n",
        "df.columns=['mpg','cylinders','diplacement','horsepower','weight','acceleration','model year','origin','name']\n",
        "\n",
        "print(df.mean(numeric_only=True)) # 'numeric_only=True'를 통해 산술 데이터를 가진 7개의 열에 대한 각각의 평균값을 계산\n",
        "print('\\n')\n",
        "print(df['mpg'].mean())\n",
        "print(df.mpg.mean())\n",
        "print('\\n')\n",
        "print(df[['mpg','weight']].mean())"
      ],
      "metadata": {
        "colab": {
          "base_uri": "https://localhost:8080/"
        },
        "id": "QihEx_UeBReY",
        "outputId": "07d29322-cf1c-4e4a-ad74-31b00b5fee08"
      },
      "execution_count": 5,
      "outputs": [
        {
          "output_type": "stream",
          "name": "stdout",
          "text": [
            "mpg               23.514573\n",
            "cylinders          5.454774\n",
            "diplacement      193.425879\n",
            "weight          2970.424623\n",
            "acceleration      15.568090\n",
            "model year        76.010050\n",
            "origin             1.572864\n",
            "dtype: float64\n",
            "\n",
            "\n",
            "23.514572864321607\n",
            "23.514572864321607\n",
            "\n",
            "\n",
            "mpg         23.514573\n",
            "weight    2970.424623\n",
            "dtype: float64\n"
          ]
        }
      ]
    },
    {
      "cell_type": "code",
      "source": [
        "print(df.median(numeric_only=True)) # 중앙값\n",
        "print('\\n')\n",
        "print(df['mpg'].median())"
      ],
      "metadata": {
        "colab": {
          "base_uri": "https://localhost:8080/"
        },
        "id": "g5SNy5wSH0yQ",
        "outputId": "07afa3bf-36fd-4c97-ed44-8881a44351d1"
      },
      "execution_count": null,
      "outputs": [
        {
          "output_type": "stream",
          "name": "stdout",
          "text": [
            "mpg               23.0\n",
            "cylinders          4.0\n",
            "diplacement      148.5\n",
            "weight          2803.5\n",
            "acceleration      15.5\n",
            "model year        76.0\n",
            "origin             1.0\n",
            "dtype: float64\n",
            "\n",
            "\n",
            "23.0\n"
          ]
        }
      ]
    },
    {
      "cell_type": "code",
      "source": [
        "print(df.max(numeric_only=True)) # 최댓값\n",
        "print('\\n')\n",
        "print(df['mpg'].max())"
      ],
      "metadata": {
        "colab": {
          "base_uri": "https://localhost:8080/"
        },
        "id": "AzoKpH4QIaTE",
        "outputId": "183867c1-e4c8-4601-ba8f-2116eeed4f44"
      },
      "execution_count": null,
      "outputs": [
        {
          "output_type": "stream",
          "name": "stdout",
          "text": [
            "mpg               46.6\n",
            "cylinders          8.0\n",
            "diplacement      455.0\n",
            "weight          5140.0\n",
            "acceleration      24.8\n",
            "model year        82.0\n",
            "origin             3.0\n",
            "dtype: float64\n",
            "\n",
            "\n",
            "46.6\n"
          ]
        }
      ]
    },
    {
      "cell_type": "code",
      "source": [
        "print(df.min(numeric_only=True))\n",
        "print('\\n')\n",
        "print(df['mpg'].min())"
      ],
      "metadata": {
        "colab": {
          "base_uri": "https://localhost:8080/"
        },
        "id": "SuF-nP3SIjk3",
        "outputId": "ef23dba8-7730-4c98-9f77-064d19aaba3c"
      },
      "execution_count": null,
      "outputs": [
        {
          "output_type": "stream",
          "name": "stdout",
          "text": [
            "mpg                9.0\n",
            "cylinders          3.0\n",
            "diplacement       68.0\n",
            "weight          1613.0\n",
            "acceleration       8.0\n",
            "model year        70.0\n",
            "origin             1.0\n",
            "dtype: float64\n",
            "\n",
            "\n",
            "9.0\n"
          ]
        }
      ]
    },
    {
      "cell_type": "code",
      "source": [
        "print(df.std(numeric_only=True)) # 표준편차\n",
        "print('\\n')\n",
        "print(df['mpg'].std())"
      ],
      "metadata": {
        "id": "10aO7dJ_I0h-",
        "colab": {
          "base_uri": "https://localhost:8080/"
        },
        "outputId": "69f163e8-fb91-4f2f-ef4e-fb8c0e0a9b99"
      },
      "execution_count": 7,
      "outputs": [
        {
          "output_type": "stream",
          "name": "stdout",
          "text": [
            "mpg               7.815984\n",
            "cylinders         1.701004\n",
            "diplacement     104.269838\n",
            "weight          846.841774\n",
            "acceleration      2.757689\n",
            "model year        3.697627\n",
            "origin            0.802055\n",
            "dtype: float64\n",
            "\n",
            "\n",
            "7.815984312565782\n"
          ]
        }
      ]
    },
    {
      "cell_type": "code",
      "source": [
        "print(df.corr(numeric_only=True)) # 상관계수\n",
        "print('\\n')\n",
        "print(df[['mpg','weight']].corr())"
      ],
      "metadata": {
        "colab": {
          "base_uri": "https://localhost:8080/"
        },
        "id": "gleop-zIbmhB",
        "outputId": "bf8d6b8d-fa48-4e28-a254-099beb1317cf"
      },
      "execution_count": 8,
      "outputs": [
        {
          "output_type": "stream",
          "name": "stdout",
          "text": [
            "                   mpg  cylinders  diplacement    weight  acceleration  \\\n",
            "mpg           1.000000  -0.775396    -0.804203 -0.831741      0.420289   \n",
            "cylinders    -0.775396   1.000000     0.950721  0.896017     -0.505419   \n",
            "diplacement  -0.804203   0.950721     1.000000  0.932824     -0.543684   \n",
            "weight       -0.831741   0.896017     0.932824  1.000000     -0.417457   \n",
            "acceleration  0.420289  -0.505419    -0.543684 -0.417457      1.000000   \n",
            "model year    0.579267  -0.348746    -0.370164 -0.306564      0.288137   \n",
            "origin        0.563450  -0.562543    -0.609409 -0.581024      0.205873   \n",
            "\n",
            "              model year    origin  \n",
            "mpg             0.579267  0.563450  \n",
            "cylinders      -0.348746 -0.562543  \n",
            "diplacement    -0.370164 -0.609409  \n",
            "weight         -0.306564 -0.581024  \n",
            "acceleration    0.288137  0.205873  \n",
            "model year      1.000000  0.180662  \n",
            "origin          0.180662  1.000000  \n",
            "\n",
            "\n",
            "             mpg    weight\n",
            "mpg     1.000000 -0.831741\n",
            "weight -0.831741  1.000000\n"
          ]
        }
      ]
    }
  ]
}