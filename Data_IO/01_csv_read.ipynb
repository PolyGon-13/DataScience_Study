{
  "nbformat": 4,
  "nbformat_minor": 0,
  "metadata": {
    "colab": {
      "provenance": [],
      "gpuType": "T4",
      "authorship_tag": "ABX9TyOFLtpYnhXaJNJjUb8dRQLW",
      "include_colab_link": true
    },
    "kernelspec": {
      "name": "python3",
      "display_name": "Python 3"
    },
    "language_info": {
      "name": "python"
    },
    "accelerator": "GPU"
  },
  "cells": [
    {
      "cell_type": "markdown",
      "metadata": {
        "id": "view-in-github",
        "colab_type": "text"
      },
      "source": [
        "<a href=\"https://colab.research.google.com/github/PolyGon-13/DataScience_Study/blob/main/data_io/01_csv_File.ipynb\" target=\"_parent\"><img src=\"https://colab.research.google.com/assets/colab-badge.svg\" alt=\"Open In Colab\"/></a>"
      ]
    },
    {
      "cell_type": "code",
      "execution_count": 3,
      "metadata": {
        "id": "5s7GfdC79vEp"
      },
      "outputs": [],
      "source": [
        "import pandas as pd\n",
        "import os"
      ]
    },
    {
      "cell_type": "code",
      "source": [
        "os.listdir(\"./data\")"
      ],
      "metadata": {
        "colab": {
          "base_uri": "https://localhost:8080/"
        },
        "id": "H9QgfGj4_gWX",
        "outputId": "f3a409d0-6d65-4d1f-f33b-0326beba6149"
      },
      "execution_count": 4,
      "outputs": [
        {
          "output_type": "execute_result",
          "data": {
            "text/plain": [
              "['df_sample_records.json',\n",
              " '남북한발전전력량.xlsx',\n",
              " 'sample.html',\n",
              " 'df_excelwriter.xlsx',\n",
              " 'df_sample_split.json',\n",
              " 'df_sample_index.json',\n",
              " 'df_sample_values.json',\n",
              " 'test.csv',\n",
              " 'df_sample.json',\n",
              " 'df_sample.xlsx',\n",
              " 'df_sample.csv',\n",
              " 'df_sample_no_index.csv',\n",
              " 'df_sample_columns.json',\n",
              " 'df_sample_no_index.xlsx',\n",
              " 'test.json',\n",
              " 'read_csv_sample.csv',\n",
              " 'read_json_sample.json']"
            ]
          },
          "metadata": {},
          "execution_count": 4
        }
      ]
    },
    {
      "cell_type": "code",
      "source": [
        "file_path='./data/read_csv_sample.csv'\n",
        "print(file_path)\n",
        "\n",
        "file_path2=os.path.join('data','read_csv_sample.csv')\n",
        "print(file_path2)"
      ],
      "metadata": {
        "colab": {
          "base_uri": "https://localhost:8080/"
        },
        "id": "DiQBql41_lAP",
        "outputId": "7ef48f09-1172-4b82-8a6d-b26e4906aacf"
      },
      "execution_count": 5,
      "outputs": [
        {
          "output_type": "stream",
          "name": "stdout",
          "text": [
            "./data/read_csv_sample.csv\n",
            "data/read_csv_sample.csv\n"
          ]
        }
      ]
    },
    {
      "cell_type": "code",
      "source": [
        "df1=pd.read_csv(file_path) # header 설정이 없으면 기본값 적용 (0행을 열 지정)\n",
        "print(df1)\n",
        "print('\\n')\n",
        "\n",
        "df2=pd.read_csv(file_path,header=None) # 행을 열 지정하지 않음\n",
        "print(df2)\n",
        "print('\\n')\n",
        "\n",
        "df3=pd.read_csv(file_path,index_col=None) # 인덱스를 지정하지 않음\n",
        "print(df3)\n",
        "print('\\n')\n",
        "\n",
        "df4=pd.read_csv(file_path,index_col='c0') # 'c0'열을 인덱스로 지정\n",
        "print(df4)"
      ],
      "metadata": {
        "colab": {
          "base_uri": "https://localhost:8080/"
        },
        "id": "gISsynFKAHdi",
        "outputId": "11695f7d-13a2-4acf-8b39-0733754cd223"
      },
      "execution_count": 10,
      "outputs": [
        {
          "output_type": "stream",
          "name": "stdout",
          "text": [
            "   c0  c1  c2  c3\n",
            "0   0   1   4   7\n",
            "1   1   2   5   8\n",
            "2   2   3   6   9\n",
            "\n",
            "\n",
            "    0   1   2   3\n",
            "0  c0  c1  c2  c3\n",
            "1   0   1   4   7\n",
            "2   1   2   5   8\n",
            "3   2   3   6   9\n",
            "\n",
            "\n",
            "   c0  c1  c2  c3\n",
            "0   0   1   4   7\n",
            "1   1   2   5   8\n",
            "2   2   3   6   9\n",
            "\n",
            "\n",
            "    c1  c2  c3\n",
            "c0            \n",
            "0    1   4   7\n",
            "1    2   5   8\n",
            "2    3   6   9\n"
          ]
        }
      ]
    },
    {
      "cell_type": "code",
      "source": [
        "df5=pd.read_csv(file_path,names=[\"a\",\"b\",\"c\",\"d\"]) # 열 이름으로 사용할 문자열의 리스트 입력 옵션\n",
        "print(df5)"
      ],
      "metadata": {
        "colab": {
          "base_uri": "https://localhost:8080/"
        },
        "id": "QMtUksv9BUmz",
        "outputId": "9f878d87-390c-4569-822c-60a020217854"
      },
      "execution_count": 12,
      "outputs": [
        {
          "output_type": "stream",
          "name": "stdout",
          "text": [
            "    a   b   c   d\n",
            "0  c0  c1  c2  c3\n",
            "1   0   1   4   7\n",
            "2   1   2   5   8\n",
            "3   2   3   6   9\n"
          ]
        }
      ]
    },
    {
      "cell_type": "code",
      "source": [
        "df6=pd.read_csv(file_path,skiprows=[1,3]) # 선택한 행을 스킵\n",
        "print(df6)"
      ],
      "metadata": {
        "colab": {
          "base_uri": "https://localhost:8080/"
        },
        "id": "DW2Zdp7bCbUX",
        "outputId": "8af253d9-b414-4334-efa9-bef67f90b100"
      },
      "execution_count": 14,
      "outputs": [
        {
          "output_type": "stream",
          "name": "stdout",
          "text": [
            "   c0  c1  c2  c3\n",
            "0   1   2   5   8\n"
          ]
        }
      ]
    }
  ]
}
